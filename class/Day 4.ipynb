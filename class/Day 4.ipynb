{
 "cells": [
  {
   "cell_type": "code",
   "execution_count": 2,
   "id": "bb709acd",
   "metadata": {},
   "outputs": [
    {
     "data": {
      "text/plain": [
       "[0, 1, 2, 3, 4, 5, 6, 7, 8, 9]"
      ]
     },
     "execution_count": 2,
     "metadata": {},
     "output_type": "execute_result"
    }
   ],
   "source": [
    "list=[x for x in range(10)]\n",
    "list"
   ]
  },
  {
   "cell_type": "code",
   "execution_count": 29,
   "id": "a850141f",
   "metadata": {},
   "outputs": [
    {
     "data": {
      "text/plain": [
       "184"
      ]
     },
     "execution_count": 29,
     "metadata": {},
     "output_type": "execute_result"
    }
   ],
   "source": [
    "import sys\n",
    "sys.getsizeof(list)"
   ]
  },
  {
   "cell_type": "code",
   "execution_count": 4,
   "id": "53c6be09",
   "metadata": {},
   "outputs": [
    {
     "name": "stdout",
     "output_type": "stream",
     "text": [
      "I\n",
      "N\n",
      "N\n",
      "O\n",
      "G\n",
      "E\n",
      "E\n",
      "K\n",
      "S\n"
     ]
    }
   ],
   "source": [
    "for x in \"INNOGEEKS\":\n",
    "    print(x)"
   ]
  },
  {
   "cell_type": "code",
   "execution_count": 11,
   "id": "f2182d75",
   "metadata": {},
   "outputs": [
    {
     "name": "stdout",
     "output_type": "stream",
     "text": [
      "H\n",
      "e\n",
      "l\n",
      "l\n",
      "o\n",
      " \n",
      "W\n",
      "o\n",
      "r\n",
      "l\n",
      "d\n",
      "!\n"
     ]
    }
   ],
   "source": [
    "a=\"Hello World!\"\n",
    "for x in a:\n",
    "    print(x)\n",
    "    "
   ]
  },
  {
   "cell_type": "code",
   "execution_count": 6,
   "id": "cc1e95fa",
   "metadata": {},
   "outputs": [
    {
     "name": "stdout",
     "output_type": "stream",
     "text": [
      "lo Wor\n"
     ]
    }
   ],
   "source": [
    "#string[start:stop:skip]\n",
    "print(a[3:9])"
   ]
  },
  {
   "cell_type": "code",
   "execution_count": 7,
   "id": "0ac936c2",
   "metadata": {},
   "outputs": [
    {
     "name": "stdout",
     "output_type": "stream",
     "text": [
      "lo World!\n"
     ]
    }
   ],
   "source": [
    "print(a[3:])"
   ]
  },
  {
   "cell_type": "code",
   "execution_count": 9,
   "id": "680360e6",
   "metadata": {},
   "outputs": [
    {
     "name": "stdout",
     "output_type": "stream",
     "text": [
      "lo\n"
     ]
    }
   ],
   "source": [
    "print(a[2:9:5])"
   ]
  },
  {
   "cell_type": "code",
   "execution_count": 10,
   "id": "64dec04c",
   "metadata": {},
   "outputs": [
    {
     "name": "stdout",
     "output_type": "stream",
     "text": [
      "Hello Wo\n"
     ]
    }
   ],
   "source": [
    "print(a[:8])"
   ]
  },
  {
   "cell_type": "code",
   "execution_count": 12,
   "id": "b2d25d85",
   "metadata": {},
   "outputs": [
    {
     "name": "stdout",
     "output_type": "stream",
     "text": [
      "!dlroW \n"
     ]
    }
   ],
   "source": [
    "# we use -1 to get from reverse(the last character has index -1)\n",
    "print(a[-1:-8:-1])"
   ]
  },
  {
   "cell_type": "code",
   "execution_count": 13,
   "id": "215c6d5a",
   "metadata": {},
   "outputs": [
    {
     "name": "stdout",
     "output_type": "stream",
     "text": [
      "!lo le\n"
     ]
    }
   ],
   "source": [
    "print(a[::-2])   # to print the string in reverse at a gap of 2"
   ]
  },
  {
   "cell_type": "code",
   "execution_count": 14,
   "id": "e0aab9ba",
   "metadata": {},
   "outputs": [],
   "source": [
    "str=\"Hello, I am studying in innogeeks class\"\n"
   ]
  },
  {
   "cell_type": "code",
   "execution_count": 16,
   "id": "853b6c77",
   "metadata": {},
   "outputs": [
    {
     "name": "stdout",
     "output_type": "stream",
     "text": [
      "True\n"
     ]
    }
   ],
   "source": [
    "print(\"am\" in str)    #to check whether am is present in str or not ---returns true or false"
   ]
  },
  {
   "cell_type": "code",
   "execution_count": 17,
   "id": "2d49967b",
   "metadata": {},
   "outputs": [
    {
     "data": {
      "text/plain": [
       "'HELLO, I AM STUDYING IN INNOGEEKS CLASS'"
      ]
     },
     "execution_count": 17,
     "metadata": {},
     "output_type": "execute_result"
    }
   ],
   "source": [
    "# to covert string into upper case\n",
    "str.upper()    "
   ]
  },
  {
   "cell_type": "code",
   "execution_count": 18,
   "id": "b28c6fe6",
   "metadata": {},
   "outputs": [
    {
     "data": {
      "text/plain": [
       "'hello, i am studying in innogeeks class'"
      ]
     },
     "execution_count": 18,
     "metadata": {},
     "output_type": "execute_result"
    }
   ],
   "source": [
    "str.lower()"
   ]
  },
  {
   "cell_type": "code",
   "execution_count": 21,
   "id": "c57ea544",
   "metadata": {},
   "outputs": [
    {
     "name": "stdout",
     "output_type": "stream",
     "text": [
      "Hello, I am studying in innogeeks class in machine learning domain\n"
     ]
    }
   ],
   "source": [
    "# to add two strings\n",
    "str1=str+\" in machine learning domain\"\n",
    "print(str1)"
   ]
  },
  {
   "cell_type": "markdown",
   "id": "3fe9f099",
   "metadata": {},
   "source": [
    "# Functions in python"
   ]
  },
  {
   "cell_type": "code",
   "execution_count": 27,
   "id": "4c248249",
   "metadata": {},
   "outputs": [],
   "source": [
    "x=32\n",
    "def inno():\n",
    "    print(\"Innogeeks\")\n",
    "    x=2+36\n",
    "    print(x)"
   ]
  },
  {
   "cell_type": "code",
   "execution_count": 28,
   "id": "448c7ac7",
   "metadata": {},
   "outputs": [
    {
     "name": "stdout",
     "output_type": "stream",
     "text": [
      "Innogeeks\n",
      "38\n"
     ]
    }
   ],
   "source": [
    "inno()"
   ]
  },
  {
   "cell_type": "code",
   "execution_count": 30,
   "id": "00aa94ef",
   "metadata": {},
   "outputs": [],
   "source": [
    "def inno(size):\n",
    "    print(\"rachitavya\"+size)"
   ]
  },
  {
   "cell_type": "code",
   "execution_count": 31,
   "id": "10151d72",
   "metadata": {},
   "outputs": [
    {
     "name": "stdout",
     "output_type": "stream",
     "text": [
      "rachitavya30\n"
     ]
    }
   ],
   "source": [
    "inno(\"30\")"
   ]
  },
  {
   "cell_type": "code",
   "execution_count": 32,
   "id": "e6b415f6",
   "metadata": {},
   "outputs": [],
   "source": [
    "#to add tupple in string\n",
    "def inno(*size):\n",
    "    print(\"rachitavya\"+size[1]+size[2])"
   ]
  },
  {
   "cell_type": "code",
   "execution_count": 33,
   "id": "f98a913f",
   "metadata": {},
   "outputs": [
    {
     "name": "stdout",
     "output_type": "stream",
     "text": [
      "rachitavya23\n"
     ]
    }
   ],
   "source": [
    "inno(\"1\",\"2\",\"3\",\"4\",\"5\")"
   ]
  },
  {
   "cell_type": "code",
   "execution_count": null,
   "id": "2e0bbb50",
   "metadata": {},
   "outputs": [],
   "source": []
  }
 ],
 "metadata": {
  "kernelspec": {
   "display_name": "Python 3 (ipykernel)",
   "language": "python",
   "name": "python3"
  },
  "language_info": {
   "codemirror_mode": {
    "name": "ipython",
    "version": 3
   },
   "file_extension": ".py",
   "mimetype": "text/x-python",
   "name": "python",
   "nbconvert_exporter": "python",
   "pygments_lexer": "ipython3",
   "version": "3.9.13"
  }
 },
 "nbformat": 4,
 "nbformat_minor": 5
}
