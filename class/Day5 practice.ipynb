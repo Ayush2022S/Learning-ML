{
 "cells": [
  {
   "cell_type": "code",
   "execution_count": 5,
   "id": "baaddbca",
   "metadata": {},
   "outputs": [],
   "source": [
    "def prime(x):\n",
    "    c=0\n",
    "    for i in range(1,(x+1)):\n",
    "        if(x%i==0):\n",
    "            c=c+1\n",
    "    if(c==2):\n",
    "        print(\"prime\")\n",
    "    else:\n",
    "        print(\"Not prime\")\n",
    "    \n",
    "    "
   ]
  },
  {
   "cell_type": "code",
   "execution_count": 6,
   "id": "c318c8bf",
   "metadata": {},
   "outputs": [
    {
     "name": "stdout",
     "output_type": "stream",
     "text": [
      "Not prime\n"
     ]
    }
   ],
   "source": [
    "x=12\n",
    "prime(x)"
   ]
  },
  {
   "cell_type": "code",
   "execution_count": 7,
   "id": "0bda7fcd",
   "metadata": {},
   "outputs": [
    {
     "name": "stdout",
     "output_type": "stream",
     "text": [
      "prime\n"
     ]
    }
   ],
   "source": [
    "x=31\n",
    "prime(x)"
   ]
  },
  {
   "cell_type": "code",
   "execution_count": 8,
   "id": "a596023d",
   "metadata": {},
   "outputs": [
    {
     "name": "stdout",
     "output_type": "stream",
     "text": [
      "Not prime\n"
     ]
    }
   ],
   "source": [
    "prime(45)"
   ]
  },
  {
   "cell_type": "code",
   "execution_count": 19,
   "id": "d9c71f53",
   "metadata": {},
   "outputs": [],
   "source": [
    "def fib(n):\n",
    "    a=0\n",
    "    b=1\n",
    "    if(n==1):\n",
    "        print(a)\n",
    "    elif(n==2):\n",
    "        print(a)\n",
    "        print(b)\n",
    "    elif(n>2):\n",
    "        print(a)\n",
    "        print(b)\n",
    "        for i in range(3,(n+1)):\n",
    "            c=a+b\n",
    "            print(c,\" \")\n",
    "            a=b\n",
    "            b=c\n",
    "    else:\n",
    "        print(\"Invalid input\")"
   ]
  },
  {
   "cell_type": "code",
   "execution_count": 21,
   "id": "b61947e8",
   "metadata": {},
   "outputs": [
    {
     "name": "stdout",
     "output_type": "stream",
     "text": [
      "0\n",
      "1\n",
      "1  \n",
      "2  \n",
      "3  \n",
      "5  \n",
      "8  \n",
      "13  \n",
      "21  \n",
      "34  \n",
      "55  \n",
      "89  \n"
     ]
    }
   ],
   "source": [
    "fib(12)"
   ]
  },
  {
   "cell_type": "code",
   "execution_count": null,
   "id": "44f201c2",
   "metadata": {},
   "outputs": [],
   "source": []
  }
 ],
 "metadata": {
  "kernelspec": {
   "display_name": "Python 3 (ipykernel)",
   "language": "python",
   "name": "python3"
  },
  "language_info": {
   "codemirror_mode": {
    "name": "ipython",
    "version": 3
   },
   "file_extension": ".py",
   "mimetype": "text/x-python",
   "name": "python",
   "nbconvert_exporter": "python",
   "pygments_lexer": "ipython3",
   "version": "3.9.13"
  }
 },
 "nbformat": 4,
 "nbformat_minor": 5
}
