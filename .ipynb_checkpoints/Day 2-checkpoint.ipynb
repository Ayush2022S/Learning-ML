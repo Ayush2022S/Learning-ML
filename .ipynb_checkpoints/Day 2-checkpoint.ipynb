{
 "cells": [
  {
   "cell_type": "code",
   "execution_count": 4,
   "id": "9bb5b2b3",
   "metadata": {},
   "outputs": [
    {
     "name": "stdout",
     "output_type": "stream",
     "text": [
      "a is greater than b\n",
      "Machine Learning\n",
      "always executed\n"
     ]
    }
   ],
   "source": [
    "a=23\n",
    "b=2\n",
    "if a<b:\n",
    "    print(\"a is smaller than b\")\n",
    "    print(\"Artificial Intelligence\")\n",
    "else:\n",
    "    print(\"a is greater than b\")\n",
    "    print(\"Machine Learning\")  \n",
    "print(\"always executed\")"
   ]
  },
  {
   "cell_type": "code",
   "execution_count": 8,
   "id": "5eea1d4a",
   "metadata": {},
   "outputs": [
    {
     "name": "stdout",
     "output_type": "stream",
     "text": [
      "a is equal to b\n",
      "innogeeks\n",
      "always executed\n"
     ]
    }
   ],
   "source": [
    "a=23\n",
    "b=23\n",
    "if a<b:\n",
    "    print(\"a is smaller than b\")\n",
    "    print(\"Artificial Intelligence\")\n",
    "elif a>b:\n",
    "    print(\"a is greater than b\")\n",
    "    print(\"Machine Learning\") \n",
    "else:\n",
    "    print(\"a is equal to b\")\n",
    "    print(\"innogeeks\")\n",
    "print(\"always executed\")"
   ]
  },
  {
   "cell_type": "code",
   "execution_count": 11,
   "id": "916f4db5",
   "metadata": {},
   "outputs": [
    {
     "name": "stdout",
     "output_type": "stream",
     "text": [
      "true\n"
     ]
    }
   ],
   "source": [
    "a=7\n",
    "b=300\n",
    "c=300\n",
    "if a<b and b==c:\n",
    "    print(\"true\")\n",
    "else:\n",
    "    print(\"false\")"
   ]
  },
  {
   "cell_type": "code",
   "execution_count": 22,
   "id": "41b0b5c3",
   "metadata": {},
   "outputs": [
    {
     "name": "stdout",
     "output_type": "stream",
     "text": [
      "3\n",
      "a is less than 10\n"
     ]
    }
   ],
   "source": [
    "a=(int)(input())\n",
    "if (a>10):\n",
    "    print(\"a is greater than 10\")\n",
    "    if(a>100):\n",
    "        print(\"a is above 100\")\n",
    "    else:\n",
    "        print(\"a is above 10 but below 100\")\n",
    "else:\n",
    "    print(\"a is less than 10\")"
   ]
  },
  {
   "cell_type": "code",
   "execution_count": 20,
   "id": "1c2cad62",
   "metadata": {},
   "outputs": [
    {
     "name": "stdout",
     "output_type": "stream",
     "text": [
      "26\n",
      "<class 'int'>\n"
     ]
    }
   ],
   "source": [
    "x=(int)(input())\n",
    "x\n",
    "print(type(x))"
   ]
  },
  {
   "cell_type": "code",
   "execution_count": null,
   "id": "0e4c014b",
   "metadata": {},
   "outputs": [],
   "source": [
    "a=(int)(input())\n",
    "b=(int)(input())\n",
    "c=(int)(input())\n",
    "if a>b:\n",
    "    if a>c:\n",
    "        print(\"a is greatest\")\n",
    "    else:\n",
    "        print(\"c is greatest\")\n",
    "else:\n",
    "    if b>c:\n",
    "        print(\"b is greatest\")\n",
    "    else:\n",
    "        print(\"c is greatest\")\n",
    "        "
   ]
  },
  {
   "cell_type": "code",
   "execution_count": null,
   "id": "a1bd2000",
   "metadata": {},
   "outputs": [],
   "source": [
    "a=(int)(input())\n",
    "b=(int)(input())\n",
    "c=(int)(input())\n",
    "if a>b:\n",
    "    if a>c:\n",
    "        print(\"a is greatest\")\n",
    "    else:\n",
    "        print(\"c is greatest\")\n",
    "else:\n",
    "    if b>c:\n",
    "        print(\"b is greatest\")\n",
    "    else:\n",
    "        print(\"c is greatest\")\n",
    "#a=12,b=13,c=16\n",
    "#output will be c is greatest"
   ]
  },
  {
   "cell_type": "code",
   "execution_count": null,
   "id": "2e098208",
   "metadata": {},
   "outputs": [],
   "source": [
    "x=12;\n",
    "x"
   ]
  },
  {
   "cell_type": "code",
   "execution_count": null,
   "id": "05c1824b",
   "metadata": {},
   "outputs": [],
   "source": []
  }
 ],
 "metadata": {
  "kernelspec": {
   "display_name": "Python 3 (ipykernel)",
   "language": "python",
   "name": "python3"
  },
  "language_info": {
   "codemirror_mode": {
    "name": "ipython",
    "version": 3
   },
   "file_extension": ".py",
   "mimetype": "text/x-python",
   "name": "python",
   "nbconvert_exporter": "python",
   "pygments_lexer": "ipython3",
   "version": "3.9.13"
  }
 },
 "nbformat": 4,
 "nbformat_minor": 5
}
