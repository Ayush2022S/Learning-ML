{
 "cells": [
  {
   "cell_type": "markdown",
   "id": "0b13a0fa",
   "metadata": {},
   "source": [
    "# Numpy Array"
   ]
  },
  {
   "cell_type": "code",
   "execution_count": 1,
   "id": "fa26be5f",
   "metadata": {},
   "outputs": [],
   "source": [
    "import numpy as np"
   ]
  },
  {
   "cell_type": "code",
   "execution_count": 2,
   "id": "93b21d28",
   "metadata": {},
   "outputs": [],
   "source": [
    "# creating an array\n",
    "arr=np.array([1,2,3,4,5])"
   ]
  },
  {
   "cell_type": "raw",
   "id": "c2fc6921",
   "metadata": {},
   "source": [
    "arr=arr.astype(int)"
   ]
  },
  {
   "cell_type": "code",
   "execution_count": 3,
   "id": "6a41e4f2",
   "metadata": {},
   "outputs": [
    {
     "data": {
      "text/plain": [
       "array([1, 2, 3, 4, 5])"
      ]
     },
     "execution_count": 3,
     "metadata": {},
     "output_type": "execute_result"
    }
   ],
   "source": [
    "arr"
   ]
  },
  {
   "cell_type": "code",
   "execution_count": 4,
   "id": "34e95f43",
   "metadata": {},
   "outputs": [],
   "source": [
    "# data type of an array\n",
    "arr=np.array([1,2,3,4],dtype=float)"
   ]
  },
  {
   "cell_type": "code",
   "execution_count": 5,
   "id": "8508335a",
   "metadata": {},
   "outputs": [
    {
     "data": {
      "text/plain": [
       "array([1., 2., 3., 4.])"
      ]
     },
     "execution_count": 5,
     "metadata": {},
     "output_type": "execute_result"
    }
   ],
   "source": [
    "arr"
   ]
  },
  {
   "cell_type": "code",
   "execution_count": 6,
   "id": "8ce39ca6",
   "metadata": {},
   "outputs": [],
   "source": [
    "# array initialization\n",
    "arr=np.array([],dtype='S')"
   ]
  },
  {
   "cell_type": "code",
   "execution_count": 7,
   "id": "24018b24",
   "metadata": {},
   "outputs": [],
   "source": [
    "arr=np.arange(10,40)"
   ]
  },
  {
   "cell_type": "code",
   "execution_count": 8,
   "id": "898c4cc8",
   "metadata": {},
   "outputs": [
    {
     "data": {
      "text/plain": [
       "array([10, 11, 12, 13, 14, 15, 16, 17, 18, 19, 20, 21, 22, 23, 24, 25, 26,\n",
       "       27, 28, 29, 30, 31, 32, 33, 34, 35, 36, 37, 38, 39])"
      ]
     },
     "execution_count": 8,
     "metadata": {},
     "output_type": "execute_result"
    }
   ],
   "source": [
    "arr"
   ]
  },
  {
   "cell_type": "code",
   "execution_count": 9,
   "id": "554d4012",
   "metadata": {},
   "outputs": [],
   "source": [
    "arr=np.arange(10,40,2)"
   ]
  },
  {
   "cell_type": "code",
   "execution_count": 10,
   "id": "44c84d3d",
   "metadata": {},
   "outputs": [
    {
     "data": {
      "text/plain": [
       "array([10, 12, 14, 16, 18, 20, 22, 24, 26, 28, 30, 32, 34, 36, 38])"
      ]
     },
     "execution_count": 10,
     "metadata": {},
     "output_type": "execute_result"
    }
   ],
   "source": [
    "arr"
   ]
  },
  {
   "cell_type": "code",
   "execution_count": 11,
   "id": "934d50a5",
   "metadata": {},
   "outputs": [
    {
     "data": {
      "text/plain": [
       "array([10, 12, 14, 16, 18, 40, 20, 22, 24, 26, 28, 30, 32, 34, 36, 38])"
      ]
     },
     "execution_count": 11,
     "metadata": {},
     "output_type": "execute_result"
    }
   ],
   "source": [
    "np.insert(arr,5,int(40))  # does not change in the original array arr"
   ]
  },
  {
   "cell_type": "code",
   "execution_count": 12,
   "id": "077a7884",
   "metadata": {},
   "outputs": [
    {
     "data": {
      "text/plain": [
       "array([10, 12, 14, 16, 18, 22, 24, 26, 28, 30, 32, 34, 36, 38])"
      ]
     },
     "execution_count": 12,
     "metadata": {},
     "output_type": "execute_result"
    }
   ],
   "source": [
    "np.delete(arr,5)"
   ]
  },
  {
   "cell_type": "code",
   "execution_count": 13,
   "id": "4dcb78e9",
   "metadata": {},
   "outputs": [],
   "source": [
    "arr=np.append(arr,50)"
   ]
  },
  {
   "cell_type": "code",
   "execution_count": 14,
   "id": "6e793682",
   "metadata": {},
   "outputs": [
    {
     "data": {
      "text/plain": [
       "array([10, 12, 14, 16, 18, 20, 22, 24, 26, 28, 30, 32, 34, 36, 38, 50])"
      ]
     },
     "execution_count": 14,
     "metadata": {},
     "output_type": "execute_result"
    }
   ],
   "source": [
    "arr"
   ]
  },
  {
   "cell_type": "code",
   "execution_count": 15,
   "id": "4db2a813",
   "metadata": {},
   "outputs": [
    {
     "name": "stdout",
     "output_type": "stream",
     "text": [
      "[10 12 14 16 18 20 22 24 26 28 30 32 34 36 38 50]\n"
     ]
    }
   ],
   "source": [
    "print(arr)"
   ]
  },
  {
   "cell_type": "code",
   "execution_count": 16,
   "id": "6c1e3746",
   "metadata": {},
   "outputs": [],
   "source": [
    "#matrices in python"
   ]
  },
  {
   "cell_type": "code",
   "execution_count": 17,
   "id": "778329da",
   "metadata": {},
   "outputs": [],
   "source": [
    "mat=np.array([[1,2,3,4],[5,6,7,8],[9,10,11,12]])"
   ]
  },
  {
   "cell_type": "code",
   "execution_count": 18,
   "id": "f5c953f3",
   "metadata": {},
   "outputs": [
    {
     "name": "stdout",
     "output_type": "stream",
     "text": [
      "[[ 1  2  3  4]\n",
      " [ 5  6  7  8]\n",
      " [ 9 10 11 12]]\n"
     ]
    }
   ],
   "source": [
    "print(mat)"
   ]
  },
  {
   "cell_type": "code",
   "execution_count": 19,
   "id": "576602c1",
   "metadata": {},
   "outputs": [
    {
     "name": "stdout",
     "output_type": "stream",
     "text": [
      "5.248394966125488\n"
     ]
    }
   ],
   "source": [
    "# speed cheking-- list vs numpy array\n",
    "a=[i for i in range(10000000)]\n",
    "b=[i for i in range(10000000,20000000)]\n",
    "c=[]\n",
    "import time\n",
    "start=time.time()  #first time is package and second one is the function in it which we are using\n",
    "for i in range(len(a)):\n",
    "    c.append(a[i]+b[i])\n",
    "print(time.time()-start)"
   ]
  },
  {
   "cell_type": "code",
   "execution_count": 20,
   "id": "49fcb9e7",
   "metadata": {},
   "outputs": [
    {
     "name": "stdout",
     "output_type": "stream",
     "text": [
      "0.025027036666870117\n"
     ]
    }
   ],
   "source": [
    "a1=np.arange(10000000)\n",
    "b1=np.arange(10000000,20000000)\n",
    "import time\n",
    "start=time.time()\n",
    "c1=a1+b1\n",
    "print(time.time()-start)"
   ]
  },
  {
   "cell_type": "code",
   "execution_count": 21,
   "id": "793030b0",
   "metadata": {},
   "outputs": [
    {
     "data": {
      "text/plain": [
       "280.1355140186916"
      ]
     },
     "execution_count": 21,
     "metadata": {},
     "output_type": "execute_result"
    }
   ],
   "source": [
    "5.9949/0.0214"
   ]
  },
  {
   "cell_type": "code",
   "execution_count": 22,
   "id": "e5e9cef3",
   "metadata": {},
   "outputs": [
    {
     "data": {
      "text/plain": [
       "array([[ 1,  2,  3,  4],\n",
       "       [ 5,  6,  7,  8],\n",
       "       [ 9, 10, 11, 12]])"
      ]
     },
     "execution_count": 22,
     "metadata": {},
     "output_type": "execute_result"
    }
   ],
   "source": [
    "mat"
   ]
  },
  {
   "cell_type": "code",
   "execution_count": 23,
   "id": "a4c49760",
   "metadata": {},
   "outputs": [
    {
     "data": {
      "text/plain": [
       "array([5, 6, 7, 8])"
      ]
     },
     "execution_count": 23,
     "metadata": {},
     "output_type": "execute_result"
    }
   ],
   "source": [
    "mat[1]"
   ]
  },
  {
   "cell_type": "code",
   "execution_count": 24,
   "id": "5962d380",
   "metadata": {},
   "outputs": [
    {
     "data": {
      "text/plain": [
       "7"
      ]
     },
     "execution_count": 24,
     "metadata": {},
     "output_type": "execute_result"
    }
   ],
   "source": [
    "mat[1,2]"
   ]
  },
  {
   "cell_type": "code",
   "execution_count": 25,
   "id": "651c84d7",
   "metadata": {},
   "outputs": [
    {
     "data": {
      "text/plain": [
       "12"
      ]
     },
     "execution_count": 25,
     "metadata": {},
     "output_type": "execute_result"
    }
   ],
   "source": [
    "mat[2,3]"
   ]
  },
  {
   "cell_type": "code",
   "execution_count": 26,
   "id": "410cdf8a",
   "metadata": {},
   "outputs": [
    {
     "name": "stdout",
     "output_type": "stream",
     "text": [
      "2\n",
      "6\n",
      "10\n"
     ]
    }
   ],
   "source": [
    "for i in range(3):\n",
    "    print(mat[i,1])"
   ]
  },
  {
   "cell_type": "markdown",
   "id": "c8881a2e",
   "metadata": {},
   "source": [
    "# 3 dimensional array---list of 2-d arrays"
   ]
  },
  {
   "cell_type": "code",
   "execution_count": 27,
   "id": "42a6df04",
   "metadata": {},
   "outputs": [],
   "source": [
    "# 3 dimensional array---list of 2-d arrays"
   ]
  },
  {
   "cell_type": "code",
   "execution_count": 28,
   "id": "0376dac4",
   "metadata": {},
   "outputs": [],
   "source": [
    "d3=np.array([[[1,2,3,4],[5,6,7,8]],[[9,10,11,12],[13,14,15,16]]])"
   ]
  },
  {
   "cell_type": "code",
   "execution_count": 29,
   "id": "4cfdc9b2",
   "metadata": {},
   "outputs": [
    {
     "data": {
      "text/plain": [
       "array([[ 9, 10, 11, 12],\n",
       "       [13, 14, 15, 16]])"
      ]
     },
     "execution_count": 29,
     "metadata": {},
     "output_type": "execute_result"
    }
   ],
   "source": [
    "d3[1]"
   ]
  },
  {
   "cell_type": "code",
   "execution_count": 30,
   "id": "43acc200",
   "metadata": {},
   "outputs": [
    {
     "data": {
      "text/plain": [
       "array([ 9, 10, 11, 12])"
      ]
     },
     "execution_count": 30,
     "metadata": {},
     "output_type": "execute_result"
    }
   ],
   "source": [
    "d3[1,0]"
   ]
  },
  {
   "cell_type": "code",
   "execution_count": 31,
   "id": "c6657ad8",
   "metadata": {},
   "outputs": [
    {
     "data": {
      "text/plain": [
       "12"
      ]
     },
     "execution_count": 31,
     "metadata": {},
     "output_type": "execute_result"
    }
   ],
   "source": [
    "d3[1,0,3]"
   ]
  },
  {
   "cell_type": "code",
   "execution_count": 32,
   "id": "a220ffb2",
   "metadata": {},
   "outputs": [],
   "source": [
    "# tasks\n",
    "#1-search an element in an array\n",
    "#2-Find largest element in an array\n",
    "#3Find smallest number in an array\n",
    "#4-reversing an array\n",
    "#5-rotating an array from kth position\n"
   ]
  },
  {
   "cell_type": "markdown",
   "id": "d7f94773",
   "metadata": {},
   "source": [
    "# Tasks:-"
   ]
  },
  {
   "cell_type": "code",
   "execution_count": 33,
   "id": "d510c67e",
   "metadata": {},
   "outputs": [
    {
     "name": "stdout",
     "output_type": "stream",
     "text": [
      "Enter the size:\n",
      "5\n",
      "Enter the elements\n",
      "1\n",
      "2\n",
      "3\n",
      "4\n",
      "5\n",
      "enter the element to be searched\n",
      "3\n",
      "element found\n"
     ]
    }
   ],
   "source": [
    "#1\n",
    "print(\"Enter the size:\")\n",
    "s=(int)(input())\n",
    "print(\"Enter the elements\")\n",
    "for i in range(0,s):\n",
    "    a[i]=(int)(input())\n",
    "print(\"enter the element to be searched\")\n",
    "n=(int)(input())\n",
    "c=0\n",
    "for i in range(0,s):\n",
    "    if(a[i]==n):\n",
    "        print(\"element found\")\n",
    "        c=1\n",
    "if(c==0):\n",
    "    print(\"element not found\")\n",
    "    \n"
   ]
  },
  {
   "cell_type": "code",
   "execution_count": 34,
   "id": "e03f381d",
   "metadata": {},
   "outputs": [
    {
     "name": "stdout",
     "output_type": "stream",
     "text": [
      "Enter the size:\n",
      "5\n",
      "Enter the elements\n",
      "1\n",
      "23\n",
      "6\n",
      "5\n",
      "38\n",
      "Largest element is =  38\n"
     ]
    }
   ],
   "source": [
    "#2\n",
    "print(\"Enter the size:\")\n",
    "s1=(int)(input())\n",
    "print(\"Enter the elements\")\n",
    "for i in range(0,s1):\n",
    "    a1[i]=(int)(input())\n",
    "l=a1[0]\n",
    "for i in range(0,s1):\n",
    "    if(a1[i]>l):\n",
    "        l=a1[i]\n",
    "print(\"Largest element is = \",l)"
   ]
  },
  {
   "cell_type": "code",
   "execution_count": 35,
   "id": "79678267",
   "metadata": {},
   "outputs": [
    {
     "name": "stdout",
     "output_type": "stream",
     "text": [
      "Enter the size:\n",
      "5\n",
      "Enter the elements\n",
      "12\n",
      "6\n",
      "8\n",
      "3\n",
      "9\n",
      "Smallest element is =  3\n"
     ]
    }
   ],
   "source": [
    "#3\n",
    "print(\"Enter the size:\")\n",
    "s1=(int)(input())\n",
    "print(\"Enter the elements\")\n",
    "for i in range(0,s1):\n",
    "    a1[i]=(int)(input())\n",
    "l=a1[0]\n",
    "for i in range(0,s1):\n",
    "    if(a1[i]<l):\n",
    "        l=a1[i]\n",
    "print(\"Smallest element is = \",l)\n"
   ]
  },
  {
   "cell_type": "code",
   "execution_count": 36,
   "id": "557f9616",
   "metadata": {},
   "outputs": [
    {
     "name": "stdout",
     "output_type": "stream",
     "text": [
      "Enter the size:\n",
      "5\n",
      "Enter the elements\n",
      "1\n",
      "2\n",
      "3\n",
      "4\n",
      "5\n",
      "Reversed array is:\n",
      "\n",
      "5\n",
      "4\n",
      "3\n",
      "2\n",
      "1\n"
     ]
    }
   ],
   "source": [
    "#4\n",
    "print(\"Enter the size:\")\n",
    "s1=(int)(input())\n",
    "print(\"Enter the elements\")\n",
    "for i in range(0,s1):\n",
    "    a1[i]=(int)(input())\n",
    "j=0;\n",
    "for i in range(s1-1,-1,-1):\n",
    "    b1[j]=a1[i]\n",
    "    j=j+1\n",
    "print(\"Reversed array is:\\n\")\n",
    "for i in range(0,s1):\n",
    "    print(b1[i])\n",
    "\n"
   ]
  },
  {
   "cell_type": "code",
   "execution_count": null,
   "id": "1d2944c0",
   "metadata": {},
   "outputs": [],
   "source": [
    "#5\n",
    "print(\"Enter the size:\")\n",
    "s1=(int)(input())\n",
    "print(\"Enter the elements\")\n",
    "for i in range(0,s1):\n",
    "    a1[i]=(int)(input())\n",
    "print(\"Enter the position from which array is to be rotated:\")\n",
    "p=(int)(input())\n",
    "p=p%s1\n",
    "k=p-1\n",
    "j=0\n",
    "for i in range(0,s1):\n",
    "    b[j]=a1[k]\n",
    "    j=j+1\n",
    "    k=k+1\n",
    "    if(k>=s1):\n",
    "        k=0\n",
    "print(\"Rotated array is:\\n\")\n",
    "for i in range(0,s1):\n",
    "    print(b[i])"
   ]
  },
  {
   "cell_type": "code",
   "execution_count": null,
   "id": "5b76dccf",
   "metadata": {},
   "outputs": [],
   "source": [
    "3\n"
   ]
  },
  {
   "cell_type": "code",
   "execution_count": null,
   "id": "b5f6ebc4",
   "metadata": {},
   "outputs": [],
   "source": [
    "print(\"k\")"
   ]
  },
  {
   "cell_type": "code",
   "execution_count": null,
   "id": "37aad5e4",
   "metadata": {},
   "outputs": [],
   "source": []
  },
  {
   "cell_type": "code",
   "execution_count": null,
   "id": "433e57dd",
   "metadata": {},
   "outputs": [],
   "source": []
  }
 ],
 "metadata": {
  "kernelspec": {
   "display_name": "Python 3 (ipykernel)",
   "language": "python",
   "name": "python3"
  },
  "language_info": {
   "codemirror_mode": {
    "name": "ipython",
    "version": 3
   },
   "file_extension": ".py",
   "mimetype": "text/x-python",
   "name": "python",
   "nbconvert_exporter": "python",
   "pygments_lexer": "ipython3",
   "version": "3.9.13"
  }
 },
 "nbformat": 4,
 "nbformat_minor": 5
}
